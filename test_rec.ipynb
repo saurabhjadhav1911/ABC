{
 "cells": [
  {
   "cell_type": "code",
   "execution_count": 1,
   "metadata": {},
   "outputs": [],
   "source": [
    "import cv2\n",
    "from pyimagesearch.shapedetector import ShapeDetector\n",
    "import argparse\n",
    "import numpy as np\n",
    "import matplotlib.pyplot as plt\n",
    "import time\n",
    "import imutils"
   ]
  },
  {
   "cell_type": "code",
   "execution_count": 2,
   "metadata": {},
   "outputs": [],
   "source": [
    "#cv2.imshow('Original',frame)\n",
    "def detect(c):\n",
    "    peri=cv2.arcLength(c,True)\n",
    "    approx=cv2.approxPolyDP(c,0.04*peri,True)\n",
    "    if(len(approx)):\n",
    "        return True\n",
    "    else:\n",
    "        return False"
   ]
  },
  {
   "cell_type": "code",
   "execution_count": 8,
   "metadata": {
    "scrolled": true
   },
   "outputs": [
    {
     "ename": "error",
     "evalue": "D:\\Build\\OpenCV\\opencv-3.3.1\\modules\\imgproc\\src\\shapedescr.cpp:284: error: (-215) count >= 0 && (depth == 5 || depth == 4) in function cv::arcLength\n",
     "output_type": "error",
     "traceback": [
      "\u001b[1;31m---------------------------------------------------------------------------\u001b[0m",
      "\u001b[1;31merror\u001b[0m                                     Traceback (most recent call last)",
      "\u001b[1;32m<ipython-input-8-0b51d067b380>\u001b[0m in \u001b[0;36m<module>\u001b[1;34m()\u001b[0m\n\u001b[0;32m      1\u001b[0m \u001b[0mtemplate\u001b[0m\u001b[1;33m=\u001b[0m\u001b[0mcv2\u001b[0m\u001b[1;33m.\u001b[0m\u001b[0mimread\u001b[0m\u001b[1;33m(\u001b[0m\u001b[1;34m'arrow.jpg'\u001b[0m\u001b[1;33m)\u001b[0m\u001b[1;33m\u001b[0m\u001b[0m\n\u001b[1;32m----> 2\u001b[1;33m \u001b[0mtemp\u001b[0m\u001b[1;33m,\u001b[0m\u001b[0mcorners\u001b[0m \u001b[1;33m=\u001b[0m \u001b[0mdetect\u001b[0m\u001b[1;33m(\u001b[0m\u001b[0mtemplate\u001b[0m\u001b[1;33m)\u001b[0m\u001b[1;33m\u001b[0m\u001b[0m\n\u001b[0m\u001b[0;32m      3\u001b[0m \u001b[0mprint\u001b[0m\u001b[1;33m(\u001b[0m\u001b[0mcorners\u001b[0m\u001b[1;33m)\u001b[0m\u001b[1;33m\u001b[0m\u001b[0m\n\u001b[0;32m      4\u001b[0m \u001b[0mcv2\u001b[0m\u001b[1;33m.\u001b[0m\u001b[0mimshow\u001b[0m\u001b[1;33m(\u001b[0m\u001b[1;34m'window'\u001b[0m\u001b[1;33m,\u001b[0m \u001b[0mtemp\u001b[0m\u001b[1;33m)\u001b[0m\u001b[1;33m\u001b[0m\u001b[0m\n\u001b[0;32m      5\u001b[0m \u001b[0mcv2\u001b[0m\u001b[1;33m.\u001b[0m\u001b[0mwaitKey\u001b[0m\u001b[1;33m(\u001b[0m\u001b[1;36m0\u001b[0m\u001b[1;33m)\u001b[0m\u001b[1;33m\u001b[0m\u001b[0m\n",
      "\u001b[1;32m<ipython-input-7-02f8dcf0b590>\u001b[0m in \u001b[0;36mdetect\u001b[1;34m(c)\u001b[0m\n\u001b[0;32m      1\u001b[0m \u001b[1;31m#cv2.imshow('Original',frame)\u001b[0m\u001b[1;33m\u001b[0m\u001b[1;33m\u001b[0m\u001b[0m\n\u001b[0;32m      2\u001b[0m \u001b[1;32mdef\u001b[0m \u001b[0mdetect\u001b[0m\u001b[1;33m(\u001b[0m\u001b[0mc\u001b[0m\u001b[1;33m)\u001b[0m\u001b[1;33m:\u001b[0m\u001b[1;33m\u001b[0m\u001b[0m\n\u001b[1;32m----> 3\u001b[1;33m     \u001b[0mperi\u001b[0m\u001b[1;33m=\u001b[0m\u001b[0mcv2\u001b[0m\u001b[1;33m.\u001b[0m\u001b[0marcLength\u001b[0m\u001b[1;33m(\u001b[0m\u001b[0mc\u001b[0m\u001b[1;33m,\u001b[0m\u001b[1;32mTrue\u001b[0m\u001b[1;33m)\u001b[0m\u001b[1;33m\u001b[0m\u001b[0m\n\u001b[0m\u001b[0;32m      4\u001b[0m     \u001b[0mapprox\u001b[0m\u001b[1;33m=\u001b[0m\u001b[0mcv2\u001b[0m\u001b[1;33m.\u001b[0m\u001b[0mapproxPolyDP\u001b[0m\u001b[1;33m(\u001b[0m\u001b[0mc\u001b[0m\u001b[1;33m,\u001b[0m\u001b[1;36m0.04\u001b[0m\u001b[1;33m*\u001b[0m\u001b[0mperi\u001b[0m\u001b[1;33m,\u001b[0m\u001b[1;32mTrue\u001b[0m\u001b[1;33m)\u001b[0m\u001b[1;33m\u001b[0m\u001b[0m\n\u001b[0;32m      5\u001b[0m     \u001b[1;32mif\u001b[0m\u001b[1;33m(\u001b[0m\u001b[0mlen\u001b[0m\u001b[1;33m(\u001b[0m\u001b[0mapprox\u001b[0m\u001b[1;33m)\u001b[0m\u001b[1;33m==\u001b[0m\u001b[1;36m7\u001b[0m\u001b[1;33m)\u001b[0m\u001b[1;33m:\u001b[0m\u001b[1;33m\u001b[0m\u001b[0m\n",
      "\u001b[1;31merror\u001b[0m: D:\\Build\\OpenCV\\opencv-3.3.1\\modules\\imgproc\\src\\shapedescr.cpp:284: error: (-215) count >= 0 && (depth == 5 || depth == 4) in function cv::arcLength\n"
     ]
    }
   ],
   "source": [
    "template=cv2.imread('arrow.jpg')\n",
    "temp,corners = detect(template)\n",
    "print(corners)\n",
    "cv2.imshow('window', temp)\n",
    "cv2.waitKey(0)\n",
    "cv2.destroyAllWindows()\n"
   ]
  },
  {
   "cell_type": "code",
   "execution_count": 3,
   "metadata": {},
   "outputs": [],
   "source": [
    "def cont(frame):\n",
    "    gray = cv2.cvtColor(frame, cv2.COLOR_BGR2GRAY)\n",
    "    img=gray#cv2.GaussianBlur(gray,(3,3),0)\n",
    "    ret,thresh = cv2.threshold(img,127,255,0)\n",
    "    cv2.imshow('win',thresh)\n",
    "    im,contours, hierarchy = cv2.findContours(thresh,cv2.RETR_TREE,cv2.CHAIN_APPROX_SIMPLE)\n",
    "    \n",
    "    for c in contours:\n",
    "        flag=detect(c)\n",
    "        if flag:\n",
    "            cv2.drawContours(img, c, -1, (0,255,0), 3)\n",
    "    return img"
   ]
  },
  {
   "cell_type": "code",
   "execution_count": 2,
   "metadata": {},
   "outputs": [],
   "source": [
    "def main():\n",
    "    last_time = time.time()\n",
    "    v=cv2.VideoCapture(1)\n",
    "    while(True):\n",
    "        ret,frame=v.read()\n",
    "        new_screen =cnt(frame)\n",
    "        print('Loop took {} seconds'.format(time.time()-last_time))\n",
    "        last_time = time.time()\n",
    "        cv2.imshow('window', new_screen)\n",
    "        \n",
    "        #cv2.imshow('window2', cv2.cvtColor(screen, cv2.COLOR_BGR2RGB))\n",
    "        if cv2.waitKey(25) & 0xFF == ord('q'):\n",
    "            cv2.destroyAllWindows()\n",
    "            break"
   ]
  },
  {
   "cell_type": "code",
   "execution_count": 7,
   "metadata": {},
   "outputs": [
    {
     "name": "stdout",
     "output_type": "stream",
     "text": [
      "Loop took 0.006013393402099609 seconds\n",
      "Loop took 1.0414724349975586 seconds\n",
      "Loop took 1.0337347984313965 seconds\n",
      "Loop took 1.0341198444366455 seconds\n",
      "Loop took 1.0711100101470947 seconds\n",
      "Loop took 1.027334451675415 seconds\n",
      "Loop took 1.041520595550537 seconds\n",
      "Loop took 1.024489402770996 seconds\n",
      "Loop took 1.0316016674041748 seconds\n",
      "Loop took 1.0623836517333984 seconds\n",
      "Loop took 1.0304689407348633 seconds\n",
      "Loop took 1.029360294342041 seconds\n",
      "Loop took 1.031750202178955 seconds\n",
      "Loop took 1.033632755279541 seconds\n",
      "Loop took 1.024378776550293 seconds\n",
      "Loop took 1.0359220504760742 seconds\n",
      "Loop took 1.040823221206665 seconds\n",
      "Loop took 1.0828440189361572 seconds\n",
      "Loop took 1.0320680141448975 seconds\n"
     ]
    }
   ],
   "source": [
    "main()"
   ]
  },
  {
   "cell_type": "code",
   "execution_count": 6,
   "metadata": {},
   "outputs": [],
   "source": [
    "def find(image):\n",
    "    resized = imutils.resize(image, width=300)\n",
    "    ratio = image.shape[0] / float(resized.shape[0])\n",
    "    #print(image.shape)\n",
    "    # convert the resized image to grayscale, blur it slightly,\n",
    "    # and threshold it\n",
    "    gray = cv2.cvtColor(resized, cv2.COLOR_BGR2GRAY)\n",
    "    blurred = cv2.GaussianBlur(gray, (5, 5), 0)\n",
    "    thresh = cv2.threshold(blurred, 60, 255, cv2.THRESH_BINARY)[1]\n",
    "\n",
    "    # find contours in the thresholded image and initialize the\n",
    "    # shape detector\n",
    "    cnts = cv2.findContours(thresh.copy(), cv2.RETR_EXTERNAL,\n",
    "        cv2.CHAIN_APPROX_SIMPLE)\n",
    "    '''cnts = cnts[0] if imutils.is_cv2() else cnts[1]\n",
    "    sd = ShapeDetector()\n",
    "    \n",
    "    # loop over the contours\n",
    "    for c in cnts:\n",
    "        # compute the center of the contour, then detect the name of the\n",
    "        # shape using only the contour\n",
    "        M = cv2.moments(c)\n",
    "        try:\n",
    "            cX =int((M[\"m10\"] / M[\"m00\"]) * ratio)\n",
    "            cY = int((M[\"m01\"] / M[\"m00\"]) * ratio)\n",
    "            shape = sd.detect(c)\n",
    "            if(shape!=\"unidentified\"):\n",
    "                # multiply the contour (x, y)-coordinates by the resize ratio,\n",
    "                # then draw the contours and the name of the shape on the image\n",
    "                c = c.astype(\"float\")\n",
    "                c *= ratio\n",
    "                c = c.astype(\"int\")\n",
    "                cv2.drawContours(image, [c], -1, (0, 255, 0), 2)\n",
    "                cv2.putText(image, shape, (cX, cY), cv2.FONT_HERSHEY_SIMPLEX,\n",
    "                    0.5, (255, 255, 255), 2)\n",
    "        except:\n",
    "            pass'''\n",
    "    cv2.drawContours(image, [cnts[0]], -1, (0, 255, 0), 2)\n",
    "    return image"
   ]
  },
  {
   "cell_type": "code",
   "execution_count": 3,
   "metadata": {},
   "outputs": [],
   "source": [
    "def cnt(img):\n",
    "    gray = cv2.cvtColor(img, cv2.COLOR_BGR2GRAY)\n",
    "    blurred = cv2.GaussianBlur(gray, (5, 5), 0)\n",
    "    thresh = cv2.threshold(blurred, 60, 255, cv2.THRESH_BINARY)[1]\n",
    "    _, contours0, hierarchy = cv2.findContours( thresh, cv2.RETR_TREE, cv2.CHAIN_APPROX_SIMPLE)\n",
    "    contours = [cv2.approxPolyDP(cnt, 3, True) for cnt in contours0]\n",
    "\n",
    "    def update(levels):\n",
    "        levels = levels - 3\n",
    "        cv2.drawContours( img, contours, (-1, 2)[levels <= 0], (128,255,255),\n",
    "            3, cv2.LINE_AA, hierarchy, abs(levels) )\n",
    "    update(3)\n",
    "    cv2.createTrackbar( \"levels+3\", \"contours\", 3, 7, update )\n",
    "    return img"
   ]
  },
  {
   "cell_type": "code",
   "execution_count": null,
   "metadata": {},
   "outputs": [],
   "source": []
  }
 ],
 "metadata": {
  "kernelspec": {
   "display_name": "Python 3",
   "language": "python",
   "name": "python3"
  },
  "language_info": {
   "codemirror_mode": {
    "name": "ipython",
    "version": 3
   },
   "file_extension": ".py",
   "mimetype": "text/x-python",
   "name": "python",
   "nbconvert_exporter": "python",
   "pygments_lexer": "ipython3",
   "version": "3.6.3"
  }
 },
 "nbformat": 4,
 "nbformat_minor": 2
}
